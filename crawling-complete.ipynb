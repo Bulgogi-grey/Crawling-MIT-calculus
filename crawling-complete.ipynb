{
 "cells": [
  {
   "cell_type": "code",
   "execution_count": 8,
   "metadata": {},
   "outputs": [],
   "source": [
    "import os\n",
    "import requests\n",
    "\n",
    "from lxml import html\n",
    "from urllib.request import urlretrieve"
   ]
  },
  {
   "cell_type": "code",
   "execution_count": 14,
   "metadata": {},
   "outputs": [],
   "source": [
    "def extracting(page_url=None):\n",
    "    base = 'https://ocw.mit.edu'\n",
    "    path = os.getcwd()\n",
    "    page = requests.get(page_url)\n",
    "    page_content = html.fromstring(page.content)\n",
    "    href_url = page_content.xpath('//a/@href')   # extracting all url\n",
    "    \n",
    "    denominator = page_url.split('/')[-1]\n",
    "    \n",
    "    if not os.path.exists(path+'/temp'):\n",
    "        os.mkdir('temp')\n",
    "    path = path + '/temp/'\n",
    "    \n",
    "    print(f'strat extracting :{denominator}')\n",
    "    \n",
    "    for each in href_url:\n",
    "        if denominator in each:\n",
    "            v_url = each\n",
    "            lecture = requests.get(base + v_url)\n",
    "            lecture_c = html.fromstring(lecture.content)\n",
    "            lecture_url = lecture_c.xpath('//a/@href')\n",
    "\n",
    "            # extracting all pdf\n",
    "            for l_url in lecture_url:\n",
    "\n",
    "                if ('.pdf' in l_url) and ('MIT' in l_url):\n",
    "                    dir_name = l_url.split('/')[-2]  # session name\n",
    "                    pdf_name = l_url.split('/')[-1] # pdf_name\n",
    "                    \n",
    "                    PATH = (path+dir_name)\n",
    "                    \n",
    "                    if not os.path.exists(PATH):\n",
    "                        os.mkdir(PATH)\n",
    "                    \n",
    "                    pdf_url = base + l_url\n",
    "                    PATH = path + dir_name +'/' + pdf_name\n",
    "                    urlretrieve(pdf_url, PATH)\n",
    "    print(f'end extracting :{denominator}')"
   ]
  },
  {
   "cell_type": "code",
   "execution_count": 15,
   "metadata": {},
   "outputs": [
    {
     "name": "stdout",
     "output_type": "stream",
     "text": [
      "strat extracting :1.-vectors-and-matrices\n",
      "end extracting :1.-vectors-and-matrices\n",
      "strat extracting :2.-partial-derivatives\n",
      "end extracting :2.-partial-derivatives\n",
      "strat extracting :3.-double-integrals-and-line-integrals-in-the-plane\n",
      "end extracting :3.-double-integrals-and-line-integrals-in-the-plane\n",
      "strat extracting :4.-triple-integrals-and-surface-integrals-in-3-space\n",
      "end extracting :4.-triple-integrals-and-surface-integrals-in-3-space\n"
     ]
    }
   ],
   "source": [
    "if __name__=='__main__':\n",
    "    page_list = ['https://ocw.mit.edu/courses/mathematics/18-02sc-multivariable-calculus-fall-2010/1.-vectors-and-matrices',\n",
    "        'https://ocw.mit.edu/courses/mathematics/18-02sc-multivariable-calculus-fall-2010/2.-partial-derivatives',\n",
    "        'https://ocw.mit.edu/courses/mathematics/18-02sc-multivariable-calculus-fall-2010/3.-double-integrals-and-line-integrals-in-the-plane',\n",
    "        'https://ocw.mit.edu/courses/mathematics/18-02sc-multivariable-calculus-fall-2010/4.-triple-integrals-and-surface-integrals-in-3-space']\n",
    "    for page in page_list:\n",
    "        extracting(page)\n",
    "        \n",
    "    print(\"Done with crawling\")"
   ]
  },
  {
   "cell_type": "code",
   "execution_count": null,
   "metadata": {},
   "outputs": [],
   "source": []
  }
 ],
 "metadata": {
  "celltoolbar": "Raw Cell Format",
  "kernelspec": {
   "display_name": "Python 3",
   "language": "python",
   "name": "python3"
  },
  "language_info": {
   "codemirror_mode": {
    "name": "ipython",
    "version": 3
   },
   "file_extension": ".py",
   "mimetype": "text/x-python",
   "name": "python",
   "nbconvert_exporter": "python",
   "pygments_lexer": "ipython3",
   "version": "3.7.1"
  }
 },
 "nbformat": 4,
 "nbformat_minor": 2
}
